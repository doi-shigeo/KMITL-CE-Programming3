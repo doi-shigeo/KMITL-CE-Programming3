{
  "nbformat": 4,
  "nbformat_minor": 0,
  "metadata": {
    "colab": {
      "name": "Programming3_NumPy.ipynb",
      "provenance": [],
      "collapsed_sections": [],
      "toc_visible": true,
      "authorship_tag": "ABX9TyPevEU8gvd5RSRc2rqYVVhp",
      "include_colab_link": true
    },
    "kernelspec": {
      "name": "python3",
      "display_name": "Python 3"
    },
    "language_info": {
      "name": "python"
    }
  },
  "cells": [
    {
      "cell_type": "markdown",
      "metadata": {
        "id": "view-in-github",
        "colab_type": "text"
      },
      "source": [
        "<a href=\"https://colab.research.google.com/github/doi-shigeo/KMITL-CE-Programming3/blob/main/Programming3_NumPy.ipynb\" target=\"_parent\"><img src=\"https://colab.research.google.com/assets/colab-badge.svg\" alt=\"Open In Colab\"/></a>"
      ]
    },
    {
      "cell_type": "markdown",
      "source": [
        "# Modules for scientific computation\n",
        "\n",
        "## NumPy \n",
        "\n",
        "### Introduction\n",
        "NumPy (Numerical Python) is one of the famous modules and commonly used (de fact standard) in Python for mathematical operations.\n",
        "\n",
        "Many modules depend on NumPy. If you install a module of scientific computation, you can see that NumPy may be also installed or the installer check the version of NumPy.\n",
        "\n",
        "Also, NumPy is used to develop AI, computer simulation, and so on.\n",
        "\n",
        "NumPy stores data like in C language. So, you have to take care of some undesiable behaviour in NumPy (some are common in pure python).\n",
        "\n"
      ],
      "metadata": {
        "id": "SLJzPWnHqmOA"
      }
    },
    {
      "cell_type": "markdown",
      "source": [
        "### Floating point and its precision (not only NumPy)\n",
        "\n",
        "When storing a real number including decimal point in a computer, there are some limitations.\n",
        "One of the limitation is that a number including decimap point might not be stored correctly.\n",
        "\n",
        "For example, please run the program below. In the program below add 0.3 for 1000 times. What is the result?\n",
        "\n"
      ],
      "metadata": {
        "id": "NjIhITuZ9-IW"
      }
    },
    {
      "cell_type": "code",
      "source": [
        "s = 0\n",
        "V = 0.3\n",
        "N = 1000\n",
        "\n",
        "for i in range(N):\n",
        "  s += V\n",
        "\n",
        "print(V, \"*\", N,\"=\", s)\n",
        "\n",
        "if (V * N == s):\n",
        "  print(\"matched\")\n",
        "else:\n",
        "  print(\"Not matched\")\n"
      ],
      "metadata": {
        "id": "029StTw0-lmz"
      },
      "execution_count": null,
      "outputs": []
    },
    {
      "cell_type": "markdown",
      "source": [
        "You'll find the result in Python isn't matched 0.3*1000=300 exactly. \n",
        "Why it happens? The reason is that a number including decimal point might not be stored exactly.\n",
        "\n",
        "May you have already learned, think the case that you convert 0.3 in decimal into binary.\n",
        "\n",
        "$\n",
        "0.3 \\times 2 = 0.6 \\\\\n",
        "0.6 \\times 2 = 1.2 \\\\\n",
        "0.2 \\times 2 = 0.4 \\\\\n",
        "0.4 \\times 2 = 0.8 \\\\\n",
        "0.8 \\times 2 = 1.6 \\\\\n",
        "0.6 \\times 2 = 1.2 \\\\\n",
        "...\n",
        "$\n",
        "\n",
        "\n",
        "Thus, $(0.3)_{10}$ = $(0.010011001100110011.....)_{2}$, it means that infinite memory in a computer is required when storing 0.3. However, computer memory is limited in general, so the binary form of 0.3 has (rounding) error. In Python, see the result of a program below:\n",
        "\n"
      ],
      "metadata": {
        "id": "CLMzKNlh-74M"
      }
    },
    {
      "cell_type": "code",
      "source": [
        "f = 0.3\n",
        "print(\"0.3 in hexadecimal: \", f.hex())\n",
        "\n",
        "g = 0.75\n",
        "print(\"0.75 in hexadecimal: \",g.hex())"
      ],
      "metadata": {
        "id": "8qzMLiGUA2GI"
      },
      "execution_count": null,
      "outputs": []
    },
    {
      "cell_type": "markdown",
      "source": [
        "The form of 0.3 indicates:\n",
        "- 0x: hexadecimal form\n",
        "- 1.3333333333333: hexadecimal form of the number. Thus, it can be converted into $(1.0011001100110011001100110011001100110011001100110011)_{2}$.\n",
        "- p-2: 2 to the -2nd power. \n",
        "\n",
        "The form expresses the number of $(1.0011001100110011001100110011001100110011001100110011)_{2} \\times 2^{-2}$.\n",
        "If you convert 0.3 in decimal into binary, it requires infinite memory in computer, as described above. \n",
        "But the representation of `f.hex()` is finite. This causes a rounding error. This phenomenon also happens even in NumPy.\n",
        "If you convert the binary above into a decimal number, it doesn't match 0.3 acculately (in other words, it has a rounding error).\n",
        "If you want to calculate acculately, you should use an external modules such as \"decimal\" module and \"fractions\" module (however, these modules are bothersome and slow to calculate).\n",
        "In other words, when comparing floting point numbers, you should use \"less than or equal\" (<=) or \"greater than or equal\" (>=) operator if possible, instead of equal(==) operator.\n",
        "\n",
        "So, please remember that if a real number isn't represented as the sum of 2 to nth power exactly, the variable of the number contains error generally. \n",
        "This may affect when calculating series like $ a_{n+1} = a_{n} + 0.1 $. The error is accumulated."
      ],
      "metadata": {
        "id": "2qYINpelB2iV"
      }
    },
    {
      "cell_type": "markdown",
      "source": [
        "### Overflow \n",
        "\n",
        "Run the following program. Think why it happens.\n"
      ],
      "metadata": {
        "id": "mkdlGhBe2NlL"
      }
    },
    {
      "cell_type": "code",
      "source": [
        "import numpy as np\n",
        "\n",
        "i = np.int64(2**63-1) # i is a 64bit integer\n",
        "print(\"2**63 - 1 = \", i)\n",
        "i += 1\n",
        "print(\"2**63 = \", i)\n",
        "\n",
        "j = np.int64(-1*2**63) # j is also a 64bit integer\n",
        "print(\"-(2**63) = \", j)\n",
        "j -= 1\n",
        "print(\"-(2**63) - 1 = \", j)\n"
      ],
      "metadata": {
        "colab": {
          "base_uri": "https://localhost:8080/"
        },
        "id": "rWhJsC1M2Pdt",
        "outputId": "ea4ed5a4-85cd-44ef-b987-fa2c170d2de3"
      },
      "execution_count": 15,
      "outputs": [
        {
          "output_type": "stream",
          "name": "stdout",
          "text": [
            "2**63 - 1 =  9223372036854775807\n",
            "2**63 =  -9223372036854775808\n",
            "-(2**63) =  -9223372036854775808\n",
            "-(2**63) - 1 =  9223372036854775807\n"
          ]
        },
        {
          "output_type": "stream",
          "name": "stderr",
          "text": [
            "/usr/local/lib/python3.7/dist-packages/ipykernel_launcher.py:5: RuntimeWarning: overflow encountered in long_scalars\n",
            "  \"\"\"\n",
            "/usr/local/lib/python3.7/dist-packages/ipykernel_launcher.py:10: RuntimeWarning: overflow encountered in long_scalars\n",
            "  # Remove the CWD from sys.path while we load stuff.\n"
          ]
        }
      ]
    },
    {
      "cell_type": "markdown",
      "source": [
        "On the other hand, run the following program. The difference is using numpy or not."
      ],
      "metadata": {
        "id": "qcs5-XgK3I4H"
      }
    },
    {
      "cell_type": "code",
      "source": [
        "i = 2**63 - 1\n",
        "print(\"2**63 - 1 = \", i)\n",
        "i += 1\n",
        "print(\"2**63 = \", i)\n",
        "\n",
        "j = -1 * 2 ** 63\n",
        "print(\"-(2**63) = \", j)\n",
        "j -= 1\n",
        "print(\"-(2**63) - 1 = \", j)"
      ],
      "metadata": {
        "id": "b2O21osj3Sq7"
      },
      "execution_count": null,
      "outputs": []
    },
    {
      "cell_type": "markdown",
      "source": [
        "In NumPy once a variable is allocated, the bit width is fixiated. In numpy, integers are represented as 2's compliments (please remind you of the contents in Digital Circuit 1). so, the range of an integer variable in NumPy is generally:\n",
        "\n",
        "$  - 2^{(bit\\ width) - 1} $ to $ 2^{(bit\\ width) - 1} - 1 $\n",
        "\n",
        "For instance, the range of int64 in NumPy is as follows: \n",
        "\n",
        "$  - 2^{63} $ to $ 2^{63} - 1 $\n",
        "\n",
        "Generally **you have to take care of overflow if you use NumPy**."
      ],
      "metadata": {
        "id": "OtLxFU5t3gE-"
      }
    },
    {
      "cell_type": "markdown",
      "source": [
        "### Underflow\n",
        "Underflow means that too small number is ignored even you use.\n",
        "To confirm this, run the following program.\n"
      ],
      "metadata": {
        "id": "047I2GUfD79K"
      }
    },
    {
      "cell_type": "code",
      "source": [
        "import numpy as np\n",
        "\n",
        "V = 10 ** (-323) # change here\n",
        "\n",
        "f = np.float32(V) # use 32bit floating point intentionally\n",
        "print(V, \"in NumPy = \", f)\n",
        "\n",
        "g = V\n",
        "print(V, \"in python = \", g)\n",
        "print(g.hex())\n"
      ],
      "metadata": {
        "colab": {
          "base_uri": "https://localhost:8080/"
        },
        "id": "1XFOrXYzEBbF",
        "outputId": "cd81bbd3-172d-4327-dce0-f7304cbbbca7"
      },
      "execution_count": 63,
      "outputs": [
        {
          "output_type": "stream",
          "name": "stdout",
          "text": [
            "1e-323 in NumPy =  0.0\n",
            "1e-323 in python =  1e-323\n",
            "0x0.0000000000002p-1022\n"
          ]
        }
      ]
    },
    {
      "cell_type": "markdown",
      "source": [
        "Attempt to change V of very small value and $g$ is set to 0.\n",
        "pure Python is robust than NumPy, but essentially even  has an underflow problem."
      ],
      "metadata": {
        "id": "HvQex_ClGyxL"
      }
    },
    {
      "cell_type": "markdown",
      "source": [
        "## How fast is NumPy compared to \"pure\" Python?\n",
        "\n",
        "Below is a code using NumPy. \n",
        "NumPy has some kinds of data types, which are similar to C language.\n",
        "\n",
        "- `numpy.intc()` : `int` in C (signed integer, 32bit width)\n",
        "- `numpy.int_()` : `long` in C (signed long, 64bit width)\n",
        "- `numpy.float()`, `numpy.float32()`: `float` in C (floating point, sign bit, 8bits exponents, 23bits mantissa)\n",
        "- `numpy.double`, `numpy.float64()`: `double` in C (floating point, sign bit, 11bits exponents, 52bits mentissa. more precise than `float`)\n",
        "- `numpy.longdouble()`: `long double` in C (floating point, more precise than `double`)\n",
        "\n",
        "As you already learned, you can convert an integer or a real number into binary.\n",
        "\n",
        "### How to measure execution time\n",
        "\n",
        "Use following code. `time.time()` is a function returning the current time in seconds.\n",
        "\n",
        "```\n",
        "import time\n",
        "\n",
        "start = time.time()\n",
        "# something to measure execution time\n",
        "end = time.time()\n",
        "\n",
        "print(end - start) # print difference between end and start\n",
        "\n",
        "```\n",
        "\n"
      ],
      "metadata": {
        "id": "T_XEVg_V8mzA"
      }
    },
    {
      "cell_type": "code",
      "source": [
        "import numpy as np # Numpy is usually imported, as \"np\" prefix\n",
        "import time # measure execution time\n",
        "\n",
        "# Using NumPy\n",
        "f = np.float64(0.1)\n",
        "print(f)\n",
        "start_time = time.time() # get time in milliseconds\n",
        "for i in range(0, 1000000):\n",
        "  f += np.float64(0.1)\n",
        "end_time = time.time()\n",
        "print(f)\n",
        "print(\"Execution time:\", end_time - start_time)\n",
        "\n"
      ],
      "metadata": {
        "id": "HKz1i09VlZkG"
      },
      "execution_count": null,
      "outputs": []
    },
    {
      "cell_type": "markdown",
      "source": [
        "### Practice: Write a code to measure execution time in Python\n",
        "\n",
        "Please rewrite the code above with following the instruction:\n",
        "- use `f = 0.1` instead of using `f = np.float64(0.1)`\n",
        "- use `f += 0.1` instead of using `f += np.float64(0.1)`\n",
        "\n",
        "Then, measure the execution times and compare them. "
      ],
      "metadata": {
        "id": "fiP740AItTUY"
      }
    },
    {
      "cell_type": "code",
      "source": [
        ""
      ],
      "metadata": {
        "id": "DWNzk1A6t1wF"
      },
      "execution_count": null,
      "outputs": []
    },
    {
      "cell_type": "markdown",
      "source": [
        "As a result, which is faster comparing with two cases?\n"
      ],
      "metadata": {
        "id": "7c7WdNnx6ant"
      }
    },
    {
      "cell_type": "markdown",
      "source": [
        "## Vector processor of NumPy\n",
        "\n",
        "You can declare and use an array (similar to the \"List\" in Python in NumPy like:\n",
        "```\n",
        "array_int = np.array([1,2,3])\n",
        "print(array_int)\n",
        "```\n",
        "\n",
        "You can create a specific vector of arbitrary dimension.\n",
        "`zeros()` is a function to make all elements are 0.\n",
        "`ones()` is a function to make all elements are 1.\n",
        "`random()` is a function to make all elements are randomly generated.\n",
        "\n",
        "```\n",
        "a = np.zeros(3)\n",
        "b = np.ones(4)\n",
        "c = np.random(5)\n",
        "```\n",
        "\n",
        "You can get the property of vector or matrix using the following functions.\n",
        "Let me assume `a` is a array or a matrix of NumPy \n",
        "```\n",
        "a.ndim : get the number of rows of a\n",
        "a.shape: get the number of rows and columns of a\n",
        "a.size: get the number of elements in a \n",
        "```\n"
      ],
      "metadata": {
        "id": "Tuyi3_RstUb2"
      }
    },
    {
      "cell_type": "code",
      "source": [
        "import numpy as np\n",
        "\n",
        "array_int = np.array([1, 2, 3]) # if you don't specify data type explicitly, appropriate data type is applied to each element of array\n",
        "array_int2 = np.array((1, 2, 3)) # though you can use round brackets, other programmer(s) may confuse when he/she reads. (i.e. a tuple is read-only but you can modify)\n",
        "print(array_int)\n",
        "print(array_int2)\n",
        "print(type(array_int))\n",
        "print(type(array_int[0])) # you can get an element of NumPy array like a list.\n",
        "\n",
        "array_float64 = np.array([1, 2, 3], dtype=np.float64) # you can specify data type explicitly\n",
        "print(array_float64)\n",
        "print(type(array_float64))\n",
        "print(type(array_float64[0]))"
      ],
      "metadata": {
        "id": "mee2fZGMGJlG"
      },
      "execution_count": null,
      "outputs": []
    },
    {
      "cell_type": "markdown",
      "source": [
        "in NumPy, If you want to add 1 for each element in array, you can write:\n",
        "```\n",
        "array_np = np.array([1, 2, 3]) # declaration\n",
        "array_np += 1 # add 1 for each element in array_int\n",
        "```\n",
        "You can write `-` for subtraction, `*` for multiplication, `/` for division. \n",
        "\n",
        "On the other hand, if you write without NumPy, you need to write:\n",
        "```\n",
        "a = [1, 2, 3]\n",
        "for i in range(len(a)):\n",
        "  a[i] += 1\n",
        "```\n",
        "Or, you can write a code like. `lambda` declares an anonymous function, `lambda <arg>: <return>`\n",
        "```\n",
        "a = [1, 2, 3] # List\n",
        "a = list(map(lambda i: i+1, a))\n",
        "```\n",
        "\n",
        "The code below will not work. \n",
        "```\n",
        "a = [1, 2, 3] # List\n",
        "a += 1 # will catch an error\n",
        "```\n"
      ],
      "metadata": {
        "id": "zhgVLXm98zEf"
      }
    },
    {
      "cell_type": "markdown",
      "source": [
        "Compare the speed between NumPy and pure Python.\n",
        "These codes will generate one-hundred-thousand sized array or list, then add 1 to each element."
      ],
      "metadata": {
        "id": "UwLdsaYnKhnD"
      }
    },
    {
      "cell_type": "code",
      "source": [
        "import numpy as np\n",
        "import time\n",
        "\n",
        "N = 100000\n",
        "array_np = np.array([i for i in range(N)])\n",
        "print(array_np)\n",
        "\n",
        "s = time.time()\n",
        "array_np = array_np + 1 # add 1 to each element\n",
        "e = time.time()\n",
        "print(e - s)\n",
        "\n",
        "print(array_np)\n",
        "\n"
      ],
      "metadata": {
        "id": "bLsxMUewIpyt"
      },
      "execution_count": null,
      "outputs": []
    },
    {
      "cell_type": "code",
      "source": [
        "import time\n",
        "\n",
        "N = 100000\n",
        "array_py = list([i for i in range(N)])\n",
        "print(array_py)\n",
        "\n",
        "s = time.time()\n",
        "array_py = list(map(lambda i : i+1, array_py)) # add 1 to each element\n",
        "e = time.time()\n",
        "print(e - s)\n",
        "\n",
        "print(array_py)"
      ],
      "metadata": {
        "id": "n6Mupx6vNI84"
      },
      "execution_count": null,
      "outputs": []
    },
    {
      "cell_type": "markdown",
      "source": [
        "The reason why NumPy is faster than pure Python is that NumPy allocates to store an array as consecutive. On the other hand, it stored as fragments in pure Python."
      ],
      "metadata": {
        "id": "h-oPUCEOQdag"
      }
    },
    {
      "cell_type": "markdown",
      "source": [
        "If size of np.array matches between two arrays, a and b, then you can add like:\n",
        "```\n",
        "a = np.array([i for i in range(N)])\n",
        "b = np.array([N-i for i in range(N)])\n",
        "c = a + b\n",
        "```\n",
        "Please remember `a * b` is the multiplication for each element and `a / b` is the division for each element."
      ],
      "metadata": {
        "id": "sksgKm7Mdwds"
      }
    },
    {
      "cell_type": "code",
      "source": [
        "import numpy as np\n",
        "\n",
        "N = 5\n",
        "a = np.array([i for i in range(N)])\n",
        "b = np.array([N-i for i in range(N)])\n",
        "c = a + b # you can add, subtract, multiply and divide two vectors like scalars (1-dimension variable).\n",
        "d = a - b # you can add, subtract, multiply and divide two vectors like scalars (1-dimension variable).\n",
        "e = a * b # you can add, subtract, multiply and divide two vectors like scalars (1-dimension variable).\n",
        "f = a / b # you can add, subtract, multiply and divide two vectors like scalars (1-dimension variable).\n",
        "\n",
        "print(\"a=\", a)\n",
        "print(\"b=\", b)\n",
        "print(\"a+b=\", c)\n",
        "print(\"a-b=\", d)\n",
        "print(\"a*b=\", e)\n",
        "print(\"a/b=\", f)"
      ],
      "metadata": {
        "id": "zEglWPc5dY-o"
      },
      "execution_count": null,
      "outputs": []
    },
    {
      "cell_type": "markdown",
      "source": [
        "Confirm how the program below works:"
      ],
      "metadata": {
        "id": "wUvkS0xj-c_S"
      }
    },
    {
      "cell_type": "code",
      "source": [
        "import numpy as np\n",
        "\n",
        "N = 5\n",
        "a = [i for i in range(N)]\n",
        "b = [N-i for i in range(N)]\n",
        "c = a + b # you can add, subtract, multiply and divide two vectors like scalars (1-dimension variable).\n",
        "d = a - b # you can add, subtract, multiply and divide two vectors like scalars (1-dimension variable).\n",
        "e = a * b # you can add, subtract, multiply and divide two vectors like scalars (1-dimension variable).\n",
        "f = a / b # you can add, subtract, multiply and divide two vectors like scalars (1-dimension variable).\n",
        "\n",
        "print(\"a=\", a)\n",
        "print(\"b=\", b)\n",
        "print(\"a+b=\", c)\n",
        "print(\"a-b=\", d)\n",
        "print(\"a*b=\", e)\n",
        "print(\"a/b=\", f)"
      ],
      "metadata": {
        "id": "mIdNBjkf-OgH"
      },
      "execution_count": null,
      "outputs": []
    },
    {
      "cell_type": "markdown",
      "source": [
        "### Practice: Arithmetic operations between two vectors in NumPy\n",
        "\n",
        "Let me assume two vectors, $ \\mathbf a =(1, 3, 5) $ and $ \\mathbf b = (6, 7, 1) $.\n",
        "Make a program to find `ndim`, `shape` and `size` for $ \\mathbf a + \\mathbf b$ and $ \\mathbf a - \\mathbf b$. In addition to this, print $ \\mathbf a + \\mathbf b$ and $ \\mathbf a - \\mathbf b$. \n",
        "\n",
        "Note: Please use NumPy.\n"
      ],
      "metadata": {
        "id": "xsHA07wbd8rK"
      }
    },
    {
      "cell_type": "code",
      "source": [
        "import numpy as np"
      ],
      "metadata": {
        "id": "zRxU8SRsycOl"
      },
      "execution_count": null,
      "outputs": []
    },
    {
      "cell_type": "markdown",
      "source": [
        "## arange() function\n",
        "\n",
        "You can use `arange()` and `linspace()` functions to generate a vector.\n",
        "\n",
        "`arange()` is similar to `range()` in Python, but the difference is that `arange()` accepts real numbers.\n",
        "\n",
        "`arange(x, y, z)`, where x is inital value, y is the last value (y isn't included in the result), z is the difference between neighboring elements.\n",
        "\n",
        "Run the following program and confirm how `arange()` works.\n"
      ],
      "metadata": {
        "id": "7TRZvHwIyiXa"
      }
    },
    {
      "cell_type": "code",
      "source": [
        "import numpy as np\n",
        "\n",
        "print(np.arange(3))\n",
        "print(np.arange(0.5, 5))\n",
        "print(np.arange(0.5, 2, 0.5))\n",
        "print(np.arange(2, 0.5, -0.5))\n"
      ],
      "metadata": {
        "id": "UJb4gzFx1NSr"
      },
      "execution_count": null,
      "outputs": []
    },
    {
      "cell_type": "markdown",
      "source": [
        "### Practice: generating arrays with arange()\n",
        "\n",
        "Make a program to generate the following three arrays with `arange()`.\n",
        "- [1 2 3 4]\n",
        "- [0.4 1.4 2.4]\n",
        "- [0.5 0.9 1.3 1.7]"
      ],
      "metadata": {
        "id": "PIrGew-U2QVs"
      }
    },
    {
      "cell_type": "code",
      "source": [
        "import numpy as np\n"
      ],
      "metadata": {
        "id": "3-JhC8Dj2hZi"
      },
      "execution_count": null,
      "outputs": []
    },
    {
      "cell_type": "markdown",
      "source": [
        "## linspace() function\n",
        "\n",
        "You can specify how many elements you want to generate.\n",
        "\n",
        "`linspace(x, y, z)`, where `x` is the initial value (stored at the first element), `y` is the last value (stored at the last element), `z` is how many elements generated. the default of `z` is 50. We recommend you specify all three arguments to call `linspace()`.\n",
        "\n"
      ],
      "metadata": {
        "id": "1DypbPgE2_T0"
      }
    },
    {
      "cell_type": "code",
      "source": [
        "import numpy as np\n",
        "\n",
        "print(np.linspace(1, 2))\n",
        "print(np.linspace(1, 5, 4))"
      ],
      "metadata": {
        "id": "4MLxEkPu4Opg"
      },
      "execution_count": null,
      "outputs": []
    },
    {
      "cell_type": "markdown",
      "source": [
        "### Practice: generate arrays with linspace()\n",
        "\n",
        "Make a program to generate the following arrays with `np.linspace()`\n",
        "- [2. 3. 4. 5.]\n",
        "- [3.  3.5 4.  4.5 5. ]\n",
        "\n",
        "\n"
      ],
      "metadata": {
        "id": "EFkf27hZ6lmT"
      }
    },
    {
      "cell_type": "code",
      "source": [
        "import numpy as np\n"
      ],
      "metadata": {
        "id": "o1Uqjp-p6sDw"
      },
      "execution_count": null,
      "outputs": []
    },
    {
      "cell_type": "markdown",
      "source": [
        "## Dot products\n",
        "\n",
        "You can calculate dot products of two vectors. Dot products are used to calculate similarity to two vectors. In computer engineering field, search engines and plagiarism checker are based on the products to calculate similarity.\n",
        "\n",
        "Before calculating the similarity, you must extract features of documents and make a vector for each document (how you extract the features is important for pattern recognization).\n",
        "\n",
        "Let me assume $ \\mathbf a $ and $ \\mathbf b $ are vectors.\n",
        "The similarity is calculated as $ \\cos \\theta = \\frac{\\mathbf a \\cdot \\mathbf b}{|\\mathbf a||\\mathbf b|} $ . \n",
        "\n",
        "This similarity is said \"cosine similarity\", the range is between -1 and 1. -1 indicates that the two vectors aren't similar at all, 1 indicates that the two vectors are equal.   \n",
        "\n",
        "- $ \\mathbf a \\cdot \\mathbf b = 1 $ : $ \\mathbf a $ and $ \\mathbf b $ are equal. \n",
        "- $ \\mathbf a \\cdot \\mathbf b > 0 $ : $ \\mathbf a $ and $ \\mathbf b $ are similar (the value indicates the similaritiness, higher is more similar)\n",
        "- $ \\mathbf a \\cdot \\mathbf b = 0 $ : $ \\mathbf a $ and $ \\mathbf b $ are not related.\n",
        "- $ \\mathbf a \\cdot \\mathbf b < 0 $ : Not similar \n",
        "- $ \\mathbf a \\cdot \\mathbf b = -1 $ : $ \\mathbf a $ and $ \\mathbf b $ are different at all.\n",
        "\n",
        "for Numpy, you can use the following functions:\n",
        "- `np.dot(a, b)`: calculate the dot product of a and b\n",
        "- `np.linalg.norm(a)`: calculate |a|, the norm of a.\n",
        "\n",
        "a and b are defined as arrays(vectors) of NumPy.\n",
        "\n"
      ],
      "metadata": {
        "id": "jUcRTGRejh0H"
      }
    },
    {
      "cell_type": "code",
      "source": [
        "import numpy as np\n",
        "\n",
        "a = np.array([1, 3])\n",
        "a_norm = np.linalg.norm(a) # find |a|\n",
        "print(a / a_norm) # find a / |a| (find the normalized vector of a)\n",
        "\n",
        "b = np.array([2, 1])\n",
        "\n",
        "c = np.dot(a, b) # find the dot product of a and b\n",
        "d = a * b        # make sure it is different from the dot product.\n",
        "print(\"a・b=\", c)\n",
        "print(d)"
      ],
      "metadata": {
        "colab": {
          "base_uri": "https://localhost:8080/"
        },
        "id": "7rl_FNfUsVIG",
        "outputId": "788ca4a1-b474-4f11-db0a-1526a96424df"
      },
      "execution_count": null,
      "outputs": [
        {
          "output_type": "stream",
          "name": "stdout",
          "text": [
            "[0.31622777 0.9486833 ]\n",
            "[0. 0. 0. 0. 0.]\n",
            "a・b= 5\n",
            "[2 3]\n"
          ]
        }
      ]
    },
    {
      "cell_type": "markdown",
      "source": [
        "### Practice: calculate dot products for vectors\n",
        "\n",
        "Let me assume $ \\mathbf a $, $ \\mathbf b $, $ \\mathbf c $, $ \\mathbf d $ as follows: \n",
        "\n",
        "- $ \\mathbf a = (1, 1, 2) $\n",
        "- $ \\mathbf b = (1, 1, 2) $\n",
        "- $ \\mathbf c = (-1, -1, -2) $\n",
        "- $ \\mathbf d = (0, 1, 1) $\n",
        "\n",
        "Then make a program to calculate the following dot products and cosine similarity using NumPy.\n",
        "\n",
        "- $ \\mathbf a \\cdot \\mathbf b $\n",
        "- $ \\frac{\\mathbf a \\cdot \\mathbf b}{|\\mathbf a| |\\mathbf b|}$\n",
        "- $ \\mathbf a \\cdot \\mathbf c $\n",
        "- $ \\frac{\\mathbf a \\cdot \\mathbf c}{|\\mathbf a| |\\mathbf c|}$\n",
        "- $ \\mathbf a \\cdot \\mathbf d $\n",
        "- $ \\frac{\\mathbf a \\cdot \\mathbf d}{|\\mathbf a| |\\mathbf d|}$\n",
        "\n"
      ],
      "metadata": {
        "id": "tZrFVbASq4HO"
      }
    },
    {
      "cell_type": "code",
      "source": [
        "import numpy as np"
      ],
      "metadata": {
        "id": "QmLE_CPDs5Mg"
      },
      "execution_count": null,
      "outputs": []
    },
    {
      "cell_type": "markdown",
      "source": [
        "## Example: Similarity between two documents (Bag of Words)\n",
        "\n",
        "One of the way to calculate the similarity between two documents is that,\n",
        "for each document you extract the words in the document and count how many times the word appears. The counting corresponds to a **feature vector** of the document.　This procedure is known as \"Bag of Words\". \n",
        "\n",
        "### 1. Normalize document\n",
        "The purpose is to prevent the same word being taken as different. For example, \"This\" and \"this\" are considered as same, but different in case-sensitive.\n",
        "To prevent this, either `string.lower()` or `string.upper()` can be used for the purpose, where `string` is a variable of string.\n",
        "Removing white spaces( ) and new line code(\\n) is also required.\n",
        "For this removing purpose, you can use `string.replace(character, '')`, where `character` is the character (ex. \" \", \"\\n\") you want to remove.\n",
        "\n",
        "### 2. Count how many times each word appears in the documents\n",
        "You can split a document into words by `string.split()` function.\n",
        "\n",
        "### 3. Make a vector for each document\n",
        "Make a vector of words appearing in the document.\n",
        "In making a feature vector, not important words (such as 'a' and 'an') may be removed to make a feature vector.\n",
        "\n",
        "Of course, this procedure ignores the order of words, it may lost important information. If you are interested in natural language processing, you can learn a lot of examples and procedures.\n",
        "\n",
        "\n"
      ],
      "metadata": {
        "id": "pv-v_y-ToGAi"
      }
    },
    {
      "cell_type": "code",
      "source": [
        "import numpy as np\n",
        "\n",
        "# This algorithm isn't optimized.\n",
        "\n",
        "# 1.\n",
        "def normalize_sentence(str):\n",
        "  return str.lower().replace(',', '').replace('.','').replace('\\n', '') # change lowercase and remove comma, dot and return\n",
        "\n",
        "# 2.\n",
        "def get_freq_of_occurence_of_words(str):\n",
        "  \"\"\"\n",
        "  get frequency of each word appears in a sentence\n",
        "  it returna as a dictioary, {word: frequency}\n",
        "  \"\"\"\n",
        "\n",
        "  freq = {}\n",
        "  s = normalize_sentence(str)\n",
        "  words = normalize_sentence(s).split(' ')\n",
        "  for w in words:\n",
        "    if freq.get(w) == None:\n",
        "      freq[w] = 1\n",
        "    else:\n",
        "      v = freq.get(w)\n",
        "      freq[w] = v + 1\n",
        "  \n",
        "  return freq\n",
        "\n",
        "# 3.\n",
        "def get_vector_by_freq_of_occurence(dict1, dict2):\n",
        "  \"\"\"\n",
        "  generate NumPy vector of the frequency of word appearance\n",
        "  Note: dict1 and dict2 are changed.\n",
        "  \"\"\"\n",
        "  order = []\n",
        "  vector1 = np.empty(0, dtype=int)\n",
        "  vector2 = np.empty(0, dtype=int)\n",
        "\n",
        "  for k1 in dict1.keys(): # for each key in dict1\n",
        "    order.append(k1)\n",
        "    vector1 = np.append(vector1, dict1[k1])\n",
        "    if dict2.get(k1) == None: # check if dict2 contains the same key\n",
        "      vector2 = np.append(vector2, 0) # dict2 has no key k1\n",
        "    else:\n",
        "      vector2 = np.append(vector2, dict2[k1]) # dict2 also has the key k1\n",
        "\n",
        "  for k1 in dict1.keys():\n",
        "    dict2.pop(k1, None) # remove a containing key-value pair in dict1 from dict2\n",
        "\n",
        "  dict1.clear()\n",
        "\n",
        "  for k2 in dict2.keys(): # for each key of dict2 not found in dict1\n",
        "    order.append(k2)\n",
        "    vector2 = np.append(vector2, dict2[k2])\n",
        "    vector1 = np.append(vector1, 0) \n",
        "\n",
        "  return vector1, vector2, order # In python, you can return multiple results using the notation.\n",
        "\n",
        "def find_similarity(str1, str2):\n",
        "  # Get frequence of occurence \n",
        "  normalized = []\n",
        "  for s in documents:\n",
        "    normalized.append(get_freq_of_occurence_of_words(s))\n",
        "\n",
        "  # get vectors of documents\n",
        "  v1, v2, ord = get_vector_by_freq_of_occurence(normalized[0], normalized[1])\n",
        "\n",
        "  print(\"v1, v2, order=\", v1, v2, ord)\n",
        "\n",
        "  # find similarity\n",
        "  dot_product = np.dot(v1, v2)\n",
        "  return dot_product / (np.linalg.norm(v1) * np.linalg.norm(v2))\n",
        "\n",
        "# Below the program is main routine.\n",
        "\n",
        "documents = \\\n",
        "[\n",
        " \"There are a lot of pencils.\",\n",
        " \"Pencils are used for writing.\"\n",
        "]\n",
        "#documents = \\ # these sentences are derived from WikiPedia (Python, Go)\n",
        "#[\n",
        "#    \"Python is a high-level, general-purpose programming language. Its design philosophy emphasizes code readability with the use of significant indentation. Its language constructs and object-oriented approach aim to help programmers write clear, logical code for small- and large-scale projects.\", \n",
        "#    \"Go is a statically typed, compiled programming language designed at Google by Robert Griesemer, Rob Pike, and Ken Thompson. It is syntactically similar to C, but with memory safety, garbage collection, structural typing, and CSP-style concurrency. It is often referred to as Golang because of its former domain name, golang.org, but its proper name is Go\", \n",
        "#]\n",
        "\n",
        "print(\"Similarity=\", \n",
        "      find_similarity(\n",
        "        documents[0],\n",
        "        documents[1]\n",
        "      )\n",
        ")\n"
      ],
      "metadata": {
        "colab": {
          "base_uri": "https://localhost:8080/"
        },
        "id": "qnmlxI_gosMf",
        "outputId": "4007d781-f6f7-43aa-eb67-e6a423303214"
      },
      "execution_count": null,
      "outputs": [
        {
          "output_type": "stream",
          "name": "stdout",
          "text": [
            "v1, v2, order= [1 1 1 1 1 1 0 0 0] [0 1 0 0 0 1 1 1 1] ['there', 'are', 'a', 'lot', 'of', 'pencils', 'used', 'for', 'writing']\n",
            "Similarity= 0.3651483716701107\n"
          ]
        }
      ]
    },
    {
      "cell_type": "markdown",
      "source": [
        "### Group work: Think two different sentences but they are similar in Bag of Word algorithm\n",
        "Think two different sentences but considered their similarity is near 1.\n",
        "Make a program to find the similarity between different two sentences.\n",
        "Note: if you already run the program of Bag of Words, you can use the function `find_similarity()` above. \n",
        "\n",
        "If you are interested in natural language processing, there are a lot of available tools, such as word2vec. Or you can build a model for natural language processing.\n",
        "\n"
      ],
      "metadata": {
        "id": "F1VGXVHM9Dqy"
      }
    },
    {
      "cell_type": "code",
      "source": [
        ""
      ],
      "metadata": {
        "id": "Z6er6YtAq0SM"
      },
      "execution_count": null,
      "outputs": []
    },
    {
      "cell_type": "markdown",
      "source": [
        "## Matrix \n",
        "Matrix is an important and useful tool when realizing artificial intelligence and computer graphics.\n",
        "\n",
        "One way to define a matrix is that you define 1-dimensional vector first and reshaping it.\n",
        "Or, you can define a matrix directly.\n"
      ],
      "metadata": {
        "id": "DpiaQs1acTbc"
      }
    },
    {
      "cell_type": "code",
      "source": [
        "import numpy as np\n",
        "\n",
        "A = np.array([1,2,3,4,5,6]) # 1 row, 6 columns\n",
        "C = A.reshape(2, 3) # change shape of A into 2 rows, 3 columns\n",
        "D = A.reshape(3, 2) # 3 rows, 2 columns\n",
        "E = A.reshape(6, 1) # 6 rows, 1 column\n",
        "B = np.array([[1,2,3], [4,5,6]]) # you can declare B has 2 rows and 3 columns\n",
        "                                 # B is same to D\n",
        "\n",
        "print(\"B=\",B)\n",
        "print(\"C=\",C)\n",
        "print(\"D=\",D)\n",
        "print(\"E=\",E)"
      ],
      "metadata": {
        "id": "BbqtUIMKtADq"
      },
      "execution_count": null,
      "outputs": []
    },
    {
      "cell_type": "markdown",
      "source": [
        "When you want to declare a matrix and calculate addition, subtraction and multiplication, use `np.matmul(A, B)` function, where A and B are the matrix."
      ],
      "metadata": {
        "id": "CGXXy1xUttGh"
      }
    },
    {
      "cell_type": "code",
      "source": [
        "import numpy as np\n",
        "\n",
        "A = np.array([[1,2], [3,4]])\n",
        "B = np.array([[5,6], [7,8]])\n",
        "\n",
        "print(A)\n",
        "print(B)\n",
        "\n",
        "print(\"Each element multiplication=\\n\",A*B)          # multiply each element of matrices, not AB\n",
        "C = np.matmul(A, B) # C is the multiplication of A and B\n",
        "print(\"AB=\\n\", C)   \n",
        "\n",
        "# if you declare an array as a matrix, you can use '*' operator to multiply two matrices.\n",
        "A = np.matrix([[1,2], [3,4]])\n",
        "B = np.matrix([[5,6], [7,8]])\n",
        "\n",
        "print(A)\n",
        "print(B)\n",
        "\n",
        "print(\"Matrix multiplication=\\n\",A*B)          # multiply each element of matrices, not AB\n"
      ],
      "metadata": {
        "colab": {
          "base_uri": "https://localhost:8080/"
        },
        "id": "fHGy5dTAbgLJ",
        "outputId": "d939f78c-b9f9-4161-eb8d-a27e5711d8a9"
      },
      "execution_count": null,
      "outputs": [
        {
          "output_type": "stream",
          "name": "stdout",
          "text": [
            "[[1 2]\n",
            " [3 4]]\n",
            "[[5 6]\n",
            " [7 8]]\n",
            "Each element multiplication=\n",
            " [[ 5 12]\n",
            " [21 32]]\n",
            "AB=\n",
            " [[19 22]\n",
            " [43 50]]\n",
            "[[1 2]\n",
            " [3 4]]\n",
            "[[5 6]\n",
            " [7 8]]\n",
            "Each element multiplication=\n",
            " [[19 22]\n",
            " [43 50]]\n"
          ]
        }
      ]
    },
    {
      "cell_type": "markdown",
      "source": [
        "### Submatrix\n",
        "You can make a submatrix of a matrix by \"slicing\" notation as you learned.\n",
        "For 1-dimensional vector, it is common."
      ],
      "metadata": {
        "id": "PHPWpFIpQ4mU"
      }
    },
    {
      "cell_type": "code",
      "source": [
        "import numpy as np\n",
        "A = np.array([i for i in range(20)]).reshape(4,5)\n",
        "\n",
        "print(A)\n",
        "print(A[1:3, 2:4])\n",
        "print(A[:3, :3]) # same as A[0:3, 0:3]\n",
        "print(A[2:, 3:]) \n"
      ],
      "metadata": {
        "colab": {
          "base_uri": "https://localhost:8080/"
        },
        "id": "rA_UdBOxRHKL",
        "outputId": "cc3bd3ce-cf61-473e-e50a-3df28bea1bec"
      },
      "execution_count": null,
      "outputs": [
        {
          "output_type": "stream",
          "name": "stdout",
          "text": [
            "[[ 0  1  2  3  4]\n",
            " [ 5  6  7  8  9]\n",
            " [10 11 12 13 14]\n",
            " [15 16 17 18 19]]\n",
            "[[ 7  8]\n",
            " [12 13]]\n",
            "[[ 0  1  2]\n",
            " [ 5  6  7]\n",
            " [10 11 12]]\n",
            "[[13 14]\n",
            " [18 19]]\n"
          ]
        }
      ]
    },
    {
      "cell_type": "markdown",
      "source": [
        "Some functions related to matrix are as follows:\n",
        "- `np.linalg.inv(A)`: get the inverse matrix of `A`. If the inverse matrix isn't existed, it raises an `LinAlgError`.\n",
        "- `np.linalg.det(A)`: get the determinant of `A`.\n",
        "- `np.linalg.rank(A)`: get the rank of `A`."
      ],
      "metadata": {
        "id": "Xef7u7bnXziU"
      }
    },
    {
      "cell_type": "code",
      "source": [
        "import numpy as np\n",
        "\n",
        "A = np.array([2,1,1,2])\n",
        "A = A.reshape(2,2)\n",
        "# A = A.reshape(2, 2)\n",
        "\n",
        "print(\"A=\\n\", A)\n",
        "A_inv = np.linalg.inv(A)\n",
        "print(\"A^-1=\\n\", A_inv)\n",
        "A_det = np.linalg.det(A)\n",
        "print(\"|A|=\", A_det)\n",
        "A_rank = np.linalg.matrix_rank(A)\n",
        "print(\"rank(A)=\", A_rank)"
      ],
      "metadata": {
        "colab": {
          "base_uri": "https://localhost:8080/"
        },
        "id": "eJJE06EDXxrF",
        "outputId": "b72e6096-97d2-4a7d-eb3a-3da7705343f5"
      },
      "execution_count": null,
      "outputs": [
        {
          "output_type": "stream",
          "name": "stdout",
          "text": [
            "A=\n",
            " [[2 1]\n",
            " [1 2]]\n",
            "|A|= 2.9999999999999996\n",
            "rank(A)= 2\n"
          ]
        }
      ]
    },
    {
      "cell_type": "markdown",
      "source": [
        "### Practice: Find submatrix\n",
        "Matrix A is defined as follows:\n",
        "$ \n",
        "\\mathbf A = \n",
        "\\begin{pmatrix}\n",
        "1 & 2 & 3 & 4 & 5\\\\\n",
        "6 & 7 & 8 & 9 & 10\\\\\n",
        "11 & 12 & 13 & 14 & 15\\\\\n",
        "16 & 17 & 18 & 19 & 20\\\\\n",
        "21 & 22 & 23 & 24 & 25\\\\\n",
        "\\end{pmatrix}\n",
        "$\n",
        "\n",
        "Write a program to get submatrix S as follows by slicing the matrix $ \\mathbf A $.\n",
        "\n",
        "(a) $ \n",
        "\\mathbf S = \n",
        "\\begin{pmatrix}\n",
        "8 & 9 \\\\\n",
        "13 & 14 \\\\\n",
        "18 & 19 \\\\\n",
        "\\end{pmatrix}\n",
        "$\n",
        "\n",
        "(b) $ \n",
        "\\mathbf S = \n",
        "\\begin{pmatrix}\n",
        "2 & 3 & 4 & 5\\\\\n",
        "7 & 8 & 9 & 10\\\\\n",
        "12 & 13 & 14 & 15\\\\\n",
        "17 & 18 & 19 & 20\\\\\n",
        "\\end{pmatrix}\n",
        "$\n",
        "\n",
        "(c) $ \n",
        "\\mathbf S = \n",
        "\\begin{pmatrix}\n",
        "4 \\\\\n",
        "9 \\\\\n",
        "\\end{pmatrix}\n",
        "$\n",
        "\n"
      ],
      "metadata": {
        "id": "8qTEzYqNSS42"
      }
    },
    {
      "cell_type": "code",
      "source": [
        "import numpy as np"
      ],
      "metadata": {
        "id": "ycJgz8tzTc9W"
      },
      "execution_count": null,
      "outputs": []
    },
    {
      "cell_type": "markdown",
      "source": [
        "### Practice: Does the matrix have inversed matrix?\n",
        "\n",
        "Write a code to find whether each matrix below in the following has the inverse matrix.\n",
        "\n",
        "(a)\n",
        "$ \n",
        "\\mathbf A = \n",
        "\\begin{pmatrix}\n",
        "1 & 1 & 0 \\\\\n",
        "0 & 1 & 1 \\\\\n",
        "1 & 0 & 1 \\\\\n",
        "\\end{pmatrix}\n",
        "$\n",
        "\n",
        "(b)\n",
        "$ \n",
        "\\mathbf A = \n",
        "\\begin{pmatrix}\n",
        "1 & 2 & 3 & 4 \\\\\n",
        "5 & 6 & 7 & 8 \\\\\n",
        "9 & 10 & 11 & 12 \\\\\n",
        "13 & 14 & 15 & 16 \\\\\n",
        "\\end{pmatrix}\n",
        "$\n"
      ],
      "metadata": {
        "id": "Jt0XrNQWfkeY"
      }
    },
    {
      "cell_type": "code",
      "source": [
        ""
      ],
      "metadata": {
        "id": "Ei-_pKKZfssU"
      },
      "execution_count": null,
      "outputs": []
    },
    {
      "cell_type": "markdown",
      "source": [
        "### Practice: Find a solution of Simultaneous equations\n",
        "\n",
        "An simultaneous equation is defined using a matrix:\n",
        "\n",
        "$ \\mathbf A \\cdot \\mathbf x = \\mathbf b $\n",
        "\n",
        "for example, Let me assume that you find $ x_1 $ and $ x_2 $ in the following simultaneous equations:\n",
        "\n",
        "$\n",
        "\\begin{cases}\n",
        "3x_1 + x_2 = 4 \\\\\n",
        "x_1 + 3x_2 = 4 \\\\\n",
        "\\end{cases}\n",
        "$\n",
        "\n",
        "In this equations, \n",
        "$ \n",
        "\\mathbf A = \n",
        "\\begin{pmatrix}\n",
        "3 & 1 \\\\\n",
        "1 & 3 \\\\\n",
        "\\end{pmatrix}\n",
        "$\n",
        ",\n",
        "$ \n",
        "\\mathbf x = \n",
        "\\begin{pmatrix}\n",
        "x_1 \\\\\n",
        "x_2 \\\\\n",
        "\\end{pmatrix}\n",
        "$\n",
        ",\n",
        "$ \n",
        "\\mathbf b = \n",
        "\\begin{pmatrix}\n",
        "4 \\\\\n",
        "4 \\\\\n",
        "\\end{pmatrix}\n",
        "$\n",
        ".\n",
        "\n",
        "Thus, you can find $ \\mathbf x $ as the following equation:  \n",
        "$ \n",
        "\\mathbf x = \\mathbf A^{-1} \\cdot \\mathbf b \n",
        "= \\frac{1}{8}\n",
        "\\begin{pmatrix}\n",
        "3 & -1 \\\\\n",
        "-1 & 3 \\\\\n",
        "\\end{pmatrix}\n",
        "\\cdot\n",
        "\\begin{pmatrix}\n",
        "4 \\\\\n",
        "4 \\\\\n",
        "\\end{pmatrix}\n",
        "= \\frac{1}{8}\n",
        "\\begin{pmatrix}\n",
        "8 \\\\\n",
        "8 \\\\\n",
        "\\end{pmatrix}\n",
        "=\n",
        "\\begin{pmatrix}\n",
        "1 \\\\\n",
        "1 \\\\\n",
        "\\end{pmatrix}\n",
        "$\n",
        "\n",
        "\n",
        "\n"
      ],
      "metadata": {
        "id": "XqMyz94ZZyEP"
      }
    },
    {
      "cell_type": "markdown",
      "source": [
        "Here is an example to solve the simutaneous equations by calculating A^{-1}b: "
      ],
      "metadata": {
        "id": "NZWQpHj5euOq"
      }
    },
    {
      "cell_type": "code",
      "source": [
        "import numpy as np\n",
        "\n",
        "A = np.array([[3,1], [1,3]])\n",
        "b = np.array([4, 4])\n",
        "\n",
        "# you can find a solution by calculating A^{-1}b\n",
        "A_inv = np.linalg.inv(A)\n",
        "x = np.matmul(A_inv, b)\n",
        "print(x)\n",
        "\n"
      ],
      "metadata": {
        "id": "bXbpzXvGdzu3"
      },
      "execution_count": null,
      "outputs": []
    },
    {
      "cell_type": "markdown",
      "source": [
        "Here is an example to solve the simutaneous equations by calling `numpy.linalg.solve()`.\n",
        "As a result, there is no difference between the above program and the below program. "
      ],
      "metadata": {
        "id": "EvyNa4O1e2is"
      }
    },
    {
      "cell_type": "code",
      "source": [
        "import numpy as np\n",
        "\n",
        "A = np.array([[3,1], [1,3]])\n",
        "b = np.array([4, 4])\n",
        "\n",
        "# you can find a solution by calling numpy.linalg.solve\n",
        "A_inv = np.linalg.solve(A, b)\n",
        "print(x)\n"
      ],
      "metadata": {
        "id": "MyxMOOA_efNv"
      },
      "execution_count": null,
      "outputs": []
    },
    {
      "cell_type": "markdown",
      "source": [
        "Please write a program to find $ x_1, x_2 $ and $x_3$ in the following equations,\n",
        "where $ a $ is the last 2 digits of your ID.\n",
        "Define an appropriate matrix for each question and solve it. \n",
        "Use numpy and find the inverse matrix to solve.\n",
        "\n",
        "(a)\n",
        "$\n",
        "\\begin{cases}\n",
        "ax_1 + 49x_2 = a+49 \\\\\n",
        "49x_1 + ax_2 = a+49 \\\\\n",
        "\\end{cases}\n",
        "$\n",
        "\n",
        "(b)\n",
        "$\n",
        "\\begin{cases}\n",
        "49x_1 + ax_2 + x_3= a+50 \\\\\n",
        "x_1 + 49x_2 + ax_3= a+50 \\\\\n",
        "ax_1 + x_2 + 49x_3= a+50 \\\\\n",
        "\\end{cases}\n",
        "$\n",
        "\n",
        "And make a program to use `numpy.linalg.solve(A, b)` function to solve.\n",
        "\n"
      ],
      "metadata": {
        "id": "1GuzBIbqdwZJ"
      }
    },
    {
      "cell_type": "markdown",
      "source": [
        "Write code to solve (a) using numpy, both finding inversed matrix and using the function `numpy.linalg.solve()`. Write in the coding region below."
      ],
      "metadata": {
        "id": "I3SuKMp3fMdH"
      }
    },
    {
      "cell_type": "code",
      "source": [
        "import numpy as np\n",
        "\n",
        "a = # your last 2 digits of ID"
      ],
      "metadata": {
        "id": "OXfhUH0ofRdF"
      },
      "execution_count": null,
      "outputs": []
    },
    {
      "cell_type": "markdown",
      "source": [
        "Write a code to solve (b) using numpy,\n",
        "both finding inversed matrix and the function `numpy.linalg.solve()`. Write in the coding region below."
      ],
      "metadata": {
        "id": "PbIDPI7wfR7y"
      }
    },
    {
      "cell_type": "code",
      "source": [
        "import numpy as np\n",
        "\n",
        "a = # your last 2 digits of ID"
      ],
      "metadata": {
        "id": "7vlVTLeZfVQj"
      },
      "execution_count": null,
      "outputs": []
    },
    {
      "cell_type": "markdown",
      "source": [
        "## Affine Transformation and 2D Computer Graphics\n",
        "\n",
        "Affine transformation is a kind of transformation of points in images.\n",
        "It is supported in many external modules.\n",
        "The transformation is represented in a matrix form.\n",
        "Let me assume $(x', y')$ is the result and $(x, y)$ is the original point.\n",
        "\n",
        "The affine transformation for magnification is represented as follows.\n",
        "$ a $ is scaling factor for x axis and $b $ is scaling factor for y axis.\n",
        "$a$, $b$ > 1 indicates expansion for the corresponding axis, $a$, $b$ < 1 indicates shrinking for the corresponding axis.\n",
        "\n",
        "$\n",
        "\\begin{pmatrix}\n",
        "x' \\\\\n",
        "y' \\\\\n",
        "\\end{pmatrix}\n",
        "=\n",
        "\\begin{pmatrix}\n",
        "a & 0 \\\\\n",
        "0 & b \\\\\n",
        "\\end{pmatrix}\n",
        "\\cdot\n",
        "\\begin{pmatrix}\n",
        "x \\\\\n",
        "y \\\\\n",
        "\\end{pmatrix}\n",
        "$\n",
        "\n",
        "The affine transformation for the rotation of $ \\theta $ (anticlockwise) is represented as follows:\n",
        "\n",
        "$\n",
        "\\begin{pmatrix}\n",
        "x' \\\\\n",
        "y' \\\\\n",
        "\\end{pmatrix}\n",
        "=\n",
        "\\begin{pmatrix}\n",
        "\\cos \\theta & -\\sin \\theta \\\\\n",
        "\\sin \\theta & \\cos \\theta \\\\\n",
        "\\end{pmatrix}\n",
        "\\cdot\n",
        "\\begin{pmatrix}\n",
        "x \\\\\n",
        "y \\\\\n",
        "\\end{pmatrix}\n",
        "$\n",
        "\n",
        "\n",
        "The affine transformation for the translation of $ (T_{x}, T_{y}) $ is represented as follows:\n",
        "$\n",
        "\\begin{pmatrix}\n",
        "x' \\\\\n",
        "y' \\\\\n",
        "\\end{pmatrix}\n",
        "=\n",
        "\\begin{pmatrix}\n",
        "x \\\\\n",
        "y \\\\\n",
        "\\end{pmatrix}\n",
        "+\n",
        "\\begin{pmatrix}\n",
        "T_{x} \\\\\n",
        "T_{y} \\\\\n",
        "\\end{pmatrix}\n",
        "$\n",
        "\n",
        "Combining these two affine transformation, we can use the following equation:\n",
        "$\n",
        "\\begin{pmatrix}\n",
        "x' \\\\\n",
        "y' \\\\\n",
        "1\n",
        "\\end{pmatrix}\n",
        "=\n",
        "\\begin{pmatrix}\n",
        "a & 0 & T_{x} \\\\\n",
        "0 & b & T_{y} \\\\\n",
        "0 & 0 & 1 \\\\\n",
        "\\end{pmatrix}\n",
        "\\cdot\n",
        "\\begin{pmatrix}\n",
        "x \\\\\n",
        "y \\\\\n",
        "1\n",
        "\\end{pmatrix}\n",
        "$\n",
        "\n",
        "Please remember that scaling and rotation is taken around the origin, $(0,0)$.\n",
        "\n",
        "To use computer graphics, we use an external module \"matplotlib\".\n",
        "In the following program, an triangle is drawn.\n"
      ],
      "metadata": {
        "id": "TPPYczqAq5US"
      }
    },
    {
      "cell_type": "code",
      "source": [
        "import numpy as np\n",
        "import math\n",
        "import matplotlib.pyplot as plt\n",
        "%matplotlib inline\n",
        "\n",
        "# define to draw a triangle on a x-y plane\n",
        "def draw_triangle(p, plt, c):\n",
        "  assert len(p) == 3 # a triangle has 3 points\n",
        "  for e in p:\n",
        "    plt.plot(e[0], e[1], \".\")\n",
        "  plt.plot([p[0][0], p[1][0]], [p[0][1], p[1][1]], color=c) # draw a line\n",
        "  plt.plot([p[1][0], p[2][0]], [p[1][1], p[2][1]], color=c)\n",
        "  plt.plot([p[2][0], p[0][0]], [p[2][1], p[0][1]], color=c)\n",
        "  return \n",
        "  \n",
        "def translate_2d(p, t):\n",
        "  \"\"\"\n",
        "  Translation \n",
        "  \"\"\"\n",
        "  return p + t\n",
        "\n",
        "def scale_2d(p, m):\n",
        "  \"\"\"\n",
        "  Scaling\n",
        "  \"\"\"\n",
        "  return p * m\n",
        "\n",
        "def rotate_2d(p, angle):\n",
        "  \"\"\"\n",
        "  Rotation\n",
        "  \"\"\"\n",
        "  angle = angle * math.pi / 180\n",
        "  rotate_matrix = np.array([[math.cos(angle), -math.sin(angle)], [math.sin(angle), math.cos(angle)]])\n",
        "  return np.matmul(rotate_matrix, p)\n",
        "\n",
        "# define points of a triangle\n",
        "points = [\n",
        "          np.array([1,1]), # [x,y] indicates (x,y) in x-y plane.\n",
        "          np.array([3,1]),\n",
        "          np.array([1,2])\n",
        "]\n",
        "\n",
        "# set range to show\n",
        "plt.xlim(-4, 4) # set range for x-axis\n",
        "plt.ylim(-4, 4) # set range for y-axis\n",
        "\n",
        "# draw the original triangle\n",
        "draw_triangle(points, plt, \"red\")\n",
        "\n",
        "new_points1 = []\n",
        "# define how much the triangle translates\n",
        "translation = np.array([-0.5, 1]) # \n",
        "for e in points:\n",
        "  new_points1.append(translate_2d(e, translation))\n",
        "# draw a triangle after shift\n",
        "draw_triangle(new_points1, plt, \"green\")  \n",
        "\n",
        "new_points2 = []\n",
        "scaling = np.array([0.75, 1.5]) # scaling for x-axis and y-axis\n",
        "for e in points:\n",
        "  new_points2.append(scale_2d(e, scaling))\n",
        "# draw a triangle after movement\n",
        "draw_triangle(new_points2, plt, \"blue\")  \n",
        "\n",
        "new_points3 = []\n",
        "angle = 90 # rotation angle (anticlockwise)\n",
        "for e in points:\n",
        "  new_points3.append(rotate_2d(e, 135))\n",
        "# draw a triangle after movement\n",
        "draw_triangle(new_points3, plt, \"black\")  \n",
        "\n",
        "# show graph and triangle\n",
        "plt.show()\n"
      ],
      "metadata": {
        "colab": {
          "base_uri": "https://localhost:8080/",
          "height": 269
        },
        "id": "nSZ3ybgVs0gl",
        "outputId": "dac2c410-14e3-439e-b022-57005ba2ea9a"
      },
      "execution_count": null,
      "outputs": [
        {
          "output_type": "display_data",
          "data": {
            "text/plain": [
              "<Figure size 432x288 with 1 Axes>"
            ],
            "image/png": "[encoded data removed]"
          },
          "metadata": {
            "needs_background": "light"
          }
        }
      ]
    },
    {
      "cell_type": "markdown",
      "source": [
        "### Practice: Scaling and translation by 3-dimesion matrix\n",
        "\n",
        "Please make a program for translating and scaling program using the following equation above. Please beware the third row is equal to 1 in the vectors.\n",
        "\n",
        "To test your program, define three points, then translate and scale it.\n",
        "\n",
        "$\n",
        "\\begin{pmatrix}\n",
        "x' \\\\\n",
        "y' \\\\\n",
        "1\n",
        "\\end{pmatrix}\n",
        "=\n",
        "\\begin{pmatrix}\n",
        "a & 0 & T_{x} \\\\\n",
        "0 & b & T_{y} \\\\\n",
        "0 & 0 & 1 \\\\\n",
        "\\end{pmatrix}\n",
        "\\cdot\n",
        "\\begin{pmatrix}\n",
        "x \\\\\n",
        "y \\\\\n",
        "1\n",
        "\\end{pmatrix}\n",
        "$\n",
        "\n"
      ],
      "metadata": {
        "id": "nXQ1sDub_7rd"
      }
    },
    {
      "cell_type": "code",
      "source": [
        "import numpy as np\n",
        "import math\n",
        "import matplotlib.pyplot as plt\n",
        "%matplotlib inline\n",
        "\n",
        "# define to draw a triangle on a x-y plane\n",
        "def draw_triangle(p, plt, c=\"red\"):\n",
        "  assert len(p) == 3 # a triangle has 3 points\n",
        "  for e in p:\n",
        "    plt.plot(e[0], e[1], \".\")\n",
        "  plt.plot([p[0][0], p[1][0]], [p[0][1], p[1][1]], color=c) # draw a line\n",
        "  plt.plot([p[1][0], p[2][0]], [p[1][1], p[2][1]], color=c)\n",
        "  plt.plot([p[2][0], p[0][0]], [p[2][1], p[0][1]], color=c)\n",
        "  return \n",
        "\n",
        "# set range to show\n",
        "plt.xlim(-10, 10) # set range for x-axis\n",
        "plt.ylim(-10, 10) # set range for y-axis\n",
        "\n",
        "# Please write your code below. You can define functions and variables as you like.\n",
        "\n"
      ],
      "metadata": {
        "id": "lVtSAy6qLzl2"
      },
      "execution_count": null,
      "outputs": []
    }
  ]
}