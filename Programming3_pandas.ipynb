{
  "nbformat": 4,
  "nbformat_minor": 0,
  "metadata": {
    "colab": {
      "name": "Programming3_pandas.ipynb",
      "provenance": [],
      "authorship_tag": "ABX9TyNaknvCDkEkLyunGL52YCoK",
      "include_colab_link": true
    },
    "kernelspec": {
      "name": "python3",
      "display_name": "Python 3"
    },
    "language_info": {
      "name": "python"
    }
  },
  "cells": [
    {
      "cell_type": "markdown",
      "metadata": {
        "id": "view-in-github",
        "colab_type": "text"
      },
      "source": [
        "<a href=\"https://colab.research.google.com/github/doi-shigeo/KMITL-CE-Programming3/blob/main/Programming3_pandas.ipynb\" target=\"_parent\"><img src=\"https://colab.research.google.com/assets/colab-badge.svg\" alt=\"Open In Colab\"/></a>"
      ]
    },
    {
      "cell_type": "markdown",
      "source": [
        "# Pandas\n",
        "## Introduction\n",
        "pandas is a fast, powerful, flexible and easy to use open source data analysis and manipulation tool,\n",
        "built on top of the Python programming language.\n",
        "\n",
        "pandas is installed by default on Google Colab. \n",
        "You can install pandas by the `pip` command.\n",
        "```\n",
        "pip install pandas\n",
        "```\n",
        "You can import pandas as the following. Namespace `pd` is often used.\n",
        "The first line is to update pandas to the latest version.\n",
        "\n",
        "The first character '!' means running a shell.\n",
        "The shell get a command after '!', and then run the command."
      ],
      "metadata": {
        "id": "hfTCquUvFAZy"
      }
    },
    {
      "cell_type": "code",
      "execution_count": null,
      "metadata": {
        "id": "3r60tDeFE0OB"
      },
      "outputs": [],
      "source": [
        "!pip install --upgrade pandas"
      ]
    },
    {
      "cell_type": "markdown",
      "source": [
        "## How to make data\n",
        "### Data Type in pandas\n",
        "\n",
        "pandas is familiar with NumPy. \n",
        "\n",
        "#### Series\n",
        "`Series` is used to store a data collection with order. When initializing Series, you can use list or tuple. You can store any data types (not only numbers), so programmers must be responsible for what data stored in a series.\n",
        "When Specifying two lists or tuples, the length of two lists or tuples must be matched.\n",
        "```\n",
        "a_series = pd.Series([10, 15, 20, 25])\n",
        "```\n",
        "\n",
        "You can find the data are stored as a table."
      ],
      "metadata": {
        "id": "zzi1HO5XHMFw"
      }
    },
    {
      "cell_type": "code",
      "source": [
        "import pandas as pd\n",
        "\n",
        "series_1 = pd.Series([1, 1, 2, 3, 5]) # the index column inserted automatically \n",
        "print(series_1)\n",
        "series_2 = pd.Series((1, 1, 2, 3, 5), (10, 11, 12, 13, 14))\n",
        "print(series_2)\n",
        "# series_3: error raises\n",
        "# series_3 = pd.Series((1, 1, 2, 3, 5), (10, 11, 12, 13, 14), (100, 101, 102, 103, 104))\n",
        "# print(series_3)\n",
        "series_4 = pd.Series(['a', 'b', 'd'], [1, 3, 6])\n",
        "print(series_4)"
      ],
      "metadata": {
        "id": "KR7tBftuVqrx"
      },
      "execution_count": null,
      "outputs": []
    },
    {
      "cell_type": "markdown",
      "source": [
        "#### DataFrame\n",
        "`DataFrame` is also used to store data as a structure for each row.\n",
        "There are many ways to construct `DataFrame`, by defining yourself or importing data from Excel or CSV.\n"
      ],
      "metadata": {
        "id": "1GT7DPp0YFqQ"
      }
    },
    {
      "cell_type": "markdown",
      "source": [
        "Note: Execute it only once and disconnect your runtime. "
      ],
      "metadata": {
        "id": "F6tNQtW3X6Jx"
      }
    },
    {
      "cell_type": "code",
      "source": [
        "!pip install --upgrade xlrd"
      ],
      "metadata": {
        "id": "gQixiWO1X5Dx"
      },
      "execution_count": null,
      "outputs": []
    },
    {
      "cell_type": "code",
      "source": [
        "import pandas as pd\n",
        "import numpy as np\n",
        "import json\n",
        "\n",
        "# define each row\n",
        "tbl1 = pd.DataFrame([\n",
        "    [\"Dragon Fruits\", 100],\n",
        "    [\"Mango\", 120],\n",
        "    [\"Melon\", 150],\n",
        "    [\"Watermelon\", 75]\n",
        "])\n",
        "# beware that the index of rows starts with 0\n",
        "print(\"tbl1=\\n\", tbl1)\n",
        "\n",
        "# you can set a name to each column and each row (selecting tuple or list is up to you)\n",
        "tbl1.index = (\"1st\", \"2nd\", \"3rd\", \"4th\") # for row\n",
        "tbl1.columns=[\"Fruit\" ,\"Price\"] # for column\n",
        "print(\"tbl1(name)=\\n\", tbl1)\n",
        "\n",
        "\n"
      ],
      "metadata": {
        "id": "ZAeFjsoMRxb8"
      },
      "execution_count": null,
      "outputs": []
    },
    {
      "cell_type": "code",
      "source": [
        "# define a table with reshaping\n",
        "# beware of the argument of reshape() is a tuple\n",
        "tbl2 = pd.DataFrame(\n",
        "    np.arange(12).reshape((3,4))\n",
        ")\n",
        "print(\"tbl2=\\n\", tbl2)\n",
        "\n"
      ],
      "metadata": {
        "id": "6JJ3Gdt62PV5"
      },
      "execution_count": null,
      "outputs": []
    },
    {
      "cell_type": "code",
      "source": [
        "# define a table with dictionary\n",
        "# Keys of dictionary are assigned to columns\n",
        "tbl3 = pd.DataFrame({\n",
        "    \"First\": [1, 2, 3, 4, 5],\n",
        "    \"Second\": [2, 4, 6, 8, 10],\n",
        "    \"Third\": [3, 6, 9, 12, 15]\n",
        "})\n",
        "print(\"tbl3=\\n\", tbl3)\n",
        "\n"
      ],
      "metadata": {
        "id": "DD1hekgs2QQx"
      },
      "execution_count": null,
      "outputs": []
    },
    {
      "cell_type": "code",
      "source": [
        "# str4 has JSON format (almost same to Python dictionary), recently used in web communication\n",
        "str4 = '{\"Temprature\": [25, 26, 27, 26.5, 26], \"Humidity\": [70, 71.2, 75, 60, 50]}'\n",
        "dict4 = json.loads(str4) # convert JSON into dictionary (requires \"import json\")\n",
        "tbl4 = pd.DataFrame(dict4) # convert dictionary into DataFrame\n",
        "print(\"tbl4=\\n\", tbl4)\n",
        "\n"
      ],
      "metadata": {
        "id": "z_zIj_Gh2VtC"
      },
      "execution_count": null,
      "outputs": []
    },
    {
      "cell_type": "code",
      "source": [
        "# CSV file importing\n",
        "# The file is derived from https://covid19.who.int/who-data/vaccination-data.csv\n",
        "# Once download it, then upload it into Google Colab by drag and drop.\n",
        "tbl5 = pd.read_csv(\"vaccination-data.csv\")\n",
        "print(\"tbl5=\\n\", tbl5)\n",
        "\n"
      ],
      "metadata": {
        "id": "JFZUgAeh2X_t"
      },
      "execution_count": null,
      "outputs": []
    },
    {
      "cell_type": "code",
      "source": [
        "# You can specify CSV directly to import data from the web\n",
        "tbl6 = pd.read_csv(\"https://covid19.who.int/WHO-COVID-19-global-table-data.csv\")\n",
        "print(\"tbl6=\\n\", tbl6)\n",
        "print(tbl6.index)\n",
        "print(tbl6.columns)\n",
        "\n"
      ],
      "metadata": {
        "id": "RIoUlTBP2Z4V"
      },
      "execution_count": null,
      "outputs": []
    },
    {
      "cell_type": "code",
      "source": [
        "# Excel file importing, almost similar way of CSV reading\n",
        "# you need to upgrade xlrd by \"pip install --upgrade xlrd\" (above) before starting.\n",
        "tbl7 = pd.read_excel(\"https://edi2.dft.go.th/LinkClick.aspx?fileticket=mTFnl%2BaCInM%3D&tabid=37\")\n",
        "print(\"tbl7=\\n\", tbl7)\n",
        "print(tbl7.index)\n",
        "print(tbl7.columns)\n"
      ],
      "metadata": {
        "id": "Wpn8MG8g2bty"
      },
      "execution_count": null,
      "outputs": []
    },
    {
      "cell_type": "markdown",
      "source": [
        "### Practice: Preparing Open Data\n",
        "Write a code to find a file of CSV or Excel on the internet, and fetch it and read as a table.\n",
        "The file must be different from the examples above.\n",
        "\n"
      ],
      "metadata": {
        "id": "7YavOUJBcsY-"
      }
    },
    {
      "cell_type": "code",
      "source": [
        ""
      ],
      "metadata": {
        "id": "0jd3cGJyc92r"
      },
      "execution_count": null,
      "outputs": []
    },
    {
      "cell_type": "markdown",
      "source": [
        "### Extracting Data"
      ],
      "metadata": {
        "id": "BcIgB8eidZtz"
      }
    },
    {
      "cell_type": "code",
      "source": [
        "import pandas as pd\n",
        "\n",
        "tbl = pd.read_csv(\"https://covid19.who.int/WHO-COVID-19-global-table-data.csv\")\n",
        "print(tbl)\n",
        "print(\"Data size=\", tbl.shape) # get data size (rows, columns)"
      ],
      "metadata": {
        "id": "vdKB8AxpeL1x"
      },
      "execution_count": null,
      "outputs": []
    },
    {
      "cell_type": "code",
      "source": [
        "# Extracting one column\n",
        "# You can call by a column name or a list (containing only one string)\n",
        "#print(tbl[\"Name\"])\n",
        "print(tbl[[\"Name\"]])\n",
        "\n",
        "# Extracting two or more columns: beware the argument is a list.\n",
        "print(tbl[[\"WHO Region\", \"Cases - cumulative total\"]])\n",
        "\n"
      ],
      "metadata": {
        "id": "51TN8YfXFSfO"
      },
      "execution_count": null,
      "outputs": []
    },
    {
      "cell_type": "code",
      "source": [
        "# If you feel the column name is long or not good, you can change it/them\n",
        "# Specify as a dictionary: \n",
        "# Note: when renaming columns, the name shouldn't contain spaces if you will use query() method\n",
        "tbl.rename(columns={\"Cases - cumulative total\": \"CumulativeTotal\", \"WHO Region\": \"Region\"}, inplace=True)\n",
        "print(tbl[[\"Region\", \"CumulativeTotal\"]])\n",
        "\n"
      ],
      "metadata": {
        "id": "dMMVPCxVFZDC"
      },
      "execution_count": null,
      "outputs": []
    },
    {
      "cell_type": "code",
      "source": [
        "# Extracting row(s) by slicing\n",
        "# you can also specify columns to get\n",
        "print(\"rows of 2 to 3=\\n\", tbl[2:4][[\"Region\", \"CumulativeTotal\"]]) # from row 2 to row 3\n",
        "print(\"First 5 rows=\\n\", tbl[:5][[\"Region\", \"CumulativeTotal\"]]) # first 5 rows\n",
        "print(\"Last 5 rows=\\n\", tbl[-5:][[\"Region\", \"CumulativeTotal\"]]) # last 5 rows\n",
        "print(\"First 5 rows=\\n\", tbl.head()[[\"Region\", \"CumulativeTotal\"]]) # first 5 rows\n",
        "print(\"Last 5 rows=\\n\", tbl.tail()[[\"Region\", \"CumulativeTotal\"]]) # last 5 rows\n",
        "\n",
        "# Extracting row(s) with loc method\n",
        "# make sure that it doesn't use rounding brackets even calling function\n",
        "# prototype declaration: tbl.loc[[Rows][Columns]]\n",
        "print(tbl.loc[[\"Global\", \"India\"], [\"Name\", \"Region\", \"CumulativeTotal\"]])\n"
      ],
      "metadata": {
        "id": "xkCg-HR2Fel6"
      },
      "execution_count": null,
      "outputs": []
    },
    {
      "cell_type": "code",
      "source": [
        "# Extracting row(s) with condition(s)\n",
        "# get data where comulative total is greater than 0\n",
        "print(tbl[tbl[\"CumulativeTotal\"] > 0][[\"Name\", \"Region\", \"CumulativeTotal\"]])\n",
        "\n",
        "# query() accepts combinational conditions\n",
        "# Condition description is similar to Python or SQL (you'll learn later)\n",
        "print(tbl.query(\"CumulativeTotal > 0 and Region > 1000000\")[[\"Name\", \"Region\", \"CumulativeTotal\"]])\n"
      ],
      "metadata": {
        "id": "b1haUpY4FtJ4"
      },
      "execution_count": null,
      "outputs": []
    },
    {
      "cell_type": "code",
      "source": [
        "# drop() drops row(s) or column(s)\n",
        "tbl.drop([\"Name\", \"Region\"], axis=1) # axis=1 is required for dropping column\n",
        "tbl.drop([\"Global\", \"India\"])        \n",
        "print(tbl[\"CumulativeTotal\"])"
      ],
      "metadata": {
        "id": "nA4yfko8F0Sb"
      },
      "execution_count": null,
      "outputs": []
    },
    {
      "cell_type": "markdown",
      "source": [
        "### Analyzing Data\n",
        "\n",
        "How to find the features of data. Statistical items are as follows.\n",
        "\n",
        "- (count) = (# of valid rows in the columns) (i.e. invalid data (ex. string,  inconvertible to a number, not counted)) \n",
        "- (mean) = $ \\mu = \\frac{1}{N}\\sum_{k=1}^{N}x_{k} $ , is mean (or average) of data over a column. \\\\\n",
        "- (var) = $ \\sigma^{2} =  \\frac{1}{N}\\sum_{k=1}^{N}(x_{k}-\\mu)^{2} $, is variance of data over a column. It indicates data valiability.\n",
        "- (std) = $ \\sigma = \\sqrt{\\sigma^{2}} = \\sqrt { \\frac{1}{N}\\sum_{k=1}^{N}(x_{k}-\\mu)^{2}} $. The meaning is equivalent to (var), but the unit of (std) is same to (mean).\n",
        "- (min) = (the minimum in the column) \n",
        "- (max) = (the maximum in the column)\n",
        "- (n%) = (n-th percentile)\n",
        "\n",
        "Percentile data will be shown in the presentation. 50th percentile is also known as \"median\".\n",
        "\n",
        "Spread sheet apps also have statistical functions. In the environment you're unable to use Python, a spreadsheet app is an alternative. The table below is correspondence of pandas function and spreadsheet function.\n",
        "\n",
        "| name | pandas func | Spreadsheet | Remark | \n",
        "|:-:|:-:|:-:|:-:|\n",
        "| count | count() | COUNT | N/A | \n",
        "| mean | mean() | AVERAGE |N/A|\n",
        "| var | var() | VAR, VAR.S |N/A|\n",
        "| std | std() | STDEV, STDEV.S |N/A|\n",
        "| min | min() | MIN |N/A|\n",
        "| max | max() | MAX |N/A|\n",
        "| n% percentile | quantile() | PERCENTILE, PERCENTILE.INC | Linear Interpolation|\n",
        "\n",
        "\n",
        "\n",
        "\n"
      ],
      "metadata": {
        "id": "pxZ4f2qjoqbD"
      }
    },
    {
      "cell_type": "code",
      "source": [
        "import pandas as pd\n",
        "\n",
        "tbl = pd.read_csv(\"https://covid19.who.int/WHO-COVID-19-global-table-data.csv\")\n",
        "print(tbl)\n",
        "print(tbl.describe())\n"
      ],
      "metadata": {
        "id": "1BNkjV8YostD"
      },
      "execution_count": null,
      "outputs": []
    },
    {
      "cell_type": "markdown",
      "source": [
        "### Practice: Find statistics indicators\n",
        "\n",
        "Find statistics indicators shown in `describe()` function for the following table.\n",
        "Define the table in the program and find them.\n",
        "\n",
        "|Data|\n",
        "|-:|\n",
        "|1|\n",
        "|2|\n",
        "|3|\n",
        "|4|\n",
        "|5|\n",
        "|6|\n",
        "|7|\n",
        "|8|\n",
        "|9|\n",
        "|10|"
      ],
      "metadata": {
        "id": "oKNaXLHsD-kJ"
      }
    },
    {
      "cell_type": "code",
      "source": [
        ""
      ],
      "metadata": {
        "colab": {
          "base_uri": "https://localhost:8080/"
        },
        "id": "qOqiELelEkEV",
        "outputId": "e4daa886-7c28-4ef5-97f4-ec30862fa7bf"
      },
      "execution_count": null,
      "outputs": [
        {
          "output_type": "stream",
          "name": "stdout",
          "text": [
            "count    10.00000\n",
            "mean      5.50000\n",
            "std       3.02765\n",
            "min       1.00000\n",
            "25%       3.25000\n",
            "50%       5.50000\n",
            "75%       7.75000\n",
            "max      10.00000\n",
            "dtype: float64\n"
          ]
        }
      ]
    },
    {
      "cell_type": "markdown",
      "source": [
        "### Individual Practice: Which game do you want to play?\n",
        "\n",
        "You can find three Excel files:\n",
        "Each file has the followiing structure:\n",
        "- First Column: ID (only identifying a person)\n",
        "- Second Column: The result (the player got a prize(Yes) or not(No)\n",
        "- Third Column: The worth of the prize (Unit: THB)\n",
        "\n",
        "Question is as follows:\n",
        "1.  Write a program to get statistics for each Excel file. You can call `describe()` function.\n",
        "2.  You are going to choose one game to play. Which game do you want to play? Think not only the game but also reason(s) with statistical indicator(s).\n",
        "\n",
        "Fill the answer of 1. in the below, and answer Google Form for 2.\n",
        "Google Form: https://docs.google.com/forms/d/e/1FAIpQLScYxBS6NxQI5d_jrxa-8aRjzXH_gheA7_ABf0cN_8jd6zfiLA/viewform"
      ],
      "metadata": {
        "id": "iolMSxBDg6aH"
      }
    },
    {
      "cell_type": "code",
      "source": [
        ""
      ],
      "metadata": {
        "id": "V9LP5yiw-cSi"
      },
      "execution_count": null,
      "outputs": []
    }
  ]
}